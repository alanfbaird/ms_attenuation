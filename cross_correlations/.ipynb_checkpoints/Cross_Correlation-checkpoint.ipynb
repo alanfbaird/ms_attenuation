{
 "cells": [
  {
   "cell_type": "code",
   "execution_count": 23,
   "metadata": {
    "collapsed": false
   },
   "outputs": [],
   "source": [
    "import numpy as np\n",
    "from obspy import read\n",
    "import cross_correlation"
   ]
  },
  {
   "cell_type": "code",
   "execution_count": 43,
   "metadata": {
    "collapsed": false
   },
   "outputs": [],
   "source": [
    "fname = '../../Data/20130723_105013/K_Well/20130723.105013.K_Well.001.[E,N,Z]'\n",
    "st = read(fname)\n",
    "\n",
    "#Hack the component field\n",
    "st[0].stats.channel='BSL'\n",
    "st[1].stats.channel='BSQ'\n",
    "st[2].stats.channel='BST'"
   ]
  },
  {
   "cell_type": "code",
   "execution_count": 51,
   "metadata": {
    "collapsed": false
   },
   "outputs": [
    {
     "name": "stdout",
     "output_type": "stream",
     "text": [
      "BSE\n",
      "BSN\n",
      "BSZ\n",
      "0 Trace(s) in Stream:\n",
      "\n"
     ]
    }
   ],
   "source": [
    "reload(cross_correlation)\n",
    "tr = cross_correlation.get_p(st)\n",
    "print st[0].stats.channel\n",
    "print st[1].stats.channel\n",
    "print st[2].stats.channel\n",
    "print tr\n",
    "\n"
   ]
  },
  {
   "cell_type": "code",
   "execution_count": 47,
   "metadata": {
    "collapsed": false
   },
   "outputs": [
    {
     "ename": "AttributeError",
     "evalue": "'Stream' object has no attribute 'stats'",
     "output_type": "error",
     "traceback": [
      "\u001b[0;31m---------------------------------------------------------------------------\u001b[0m",
      "\u001b[0;31mAttributeError\u001b[0m                            Traceback (most recent call last)",
      "\u001b[0;32m<ipython-input-47-49b540fb6bb0>\u001b[0m in \u001b[0;36m<module>\u001b[0;34m()\u001b[0m\n\u001b[0;32m----> 1\u001b[0;31m \u001b[0mtr\u001b[0m\u001b[0;34m.\u001b[0m\u001b[0mstats\u001b[0m\u001b[0;34m.\u001b[0m\u001b[0msac\u001b[0m\u001b[0;34m\u001b[0m\u001b[0m\n\u001b[0m",
      "\u001b[0;31mAttributeError\u001b[0m: 'Stream' object has no attribute 'stats'"
     ]
    }
   ],
   "source": [
    "tr.stats.sac"
   ]
  },
  {
   "cell_type": "code",
   "execution_count": null,
   "metadata": {
    "collapsed": true
   },
   "outputs": [],
   "source": []
  }
 ],
 "metadata": {
  "kernelspec": {
   "display_name": "Python 2",
   "language": "python",
   "name": "python2"
  },
  "language_info": {
   "codemirror_mode": {
    "name": "ipython",
    "version": 2
   },
   "file_extension": ".py",
   "mimetype": "text/x-python",
   "name": "python",
   "nbconvert_exporter": "python",
   "pygments_lexer": "ipython2",
   "version": "2.7.11"
  }
 },
 "nbformat": 4,
 "nbformat_minor": 0
}
