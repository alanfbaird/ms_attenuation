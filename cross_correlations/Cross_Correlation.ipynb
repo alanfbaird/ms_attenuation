{
 "cells": [
  {
   "cell_type": "code",
   "execution_count": 1,
   "metadata": {
    "collapsed": false
   },
   "outputs": [],
   "source": [
    "import numpy as np\n",
    "from obspy import read\n",
    "import cross_correlation"
   ]
  },
  {
   "cell_type": "code",
   "execution_count": null,
   "metadata": {
    "collapsed": true
   },
   "outputs": [],
   "source": []
  },
  {
   "cell_type": "code",
   "execution_count": 2,
   "metadata": {
    "collapsed": false
   },
   "outputs": [],
   "source": [
    "fname = '../../Waveforms/20130723_123549/K_Well/20130723.123549.K_Well.*.[E,N,Z]'\n",
    "st = read(fname)\n",
    "\n"
   ]
  },
  {
   "cell_type": "code",
   "execution_count": 8,
   "metadata": {
    "collapsed": false
   },
   "outputs": [],
   "source": [
    "st[4].plot(type='relative')"
   ]
  },
  {
   "cell_type": "code",
   "execution_count": 4,
   "metadata": {
    "collapsed": true
   },
   "outputs": [],
   "source": [
    "#Hack the component field\n",
    "for tr in st:\n",
    "    tr.stats.channel = 'BS'+tr.stats.channel\n",
    "    if tr.stats.channel == 'BSZ':\n",
    "        tr.stats.channel='BSL'"
   ]
  },
  {
   "cell_type": "code",
   "execution_count": 5,
   "metadata": {
    "collapsed": false
   },
   "outputs": [
    {
     "name": "stdout",
     "output_type": "stream",
     "text": [
      "108 Trace(s) in Stream:\n",
      "\n",
      "K_Well.001..BSE | 2013-07-23T12:35:49.000000Z - 2013-07-23T12:35:51.000000Z | 4000.0 Hz, 8001 samples\n",
      "...\n",
      "(106 other traces)\n",
      "...\n",
      "K_Well.036..BSL | 2013-07-23T12:35:49.000000Z - 2013-07-23T12:35:51.000000Z | 4000.0 Hz, 8001 samples\n",
      "\n",
      "[Use \"print(Stream.__str__(extended=True))\" to print all Traces]\n",
      "--- Grabbing p-waves ----\n",
      "36 Trace(s) in Stream:\n",
      "\n",
      "K_Well.001..BSL | 2013-07-23T12:35:49.000000Z - 2013-07-23T12:35:51.000000Z | 4000.0 Hz, 8001 samples\n",
      "...\n",
      "(34 other traces)\n",
      "...\n",
      "K_Well.036..BSL | 2013-07-23T12:35:49.000000Z - 2013-07-23T12:35:51.000000Z | 4000.0 Hz, 8001 samples\n",
      "\n",
      "[Use \"print(Stream.__str__(extended=True))\" to print all Traces]\n"
     ]
    }
   ],
   "source": [
    "reload(cross_correlation)\n",
    "print st\n",
    "print '--- Grabbing p-waves ----'\n",
    "st = cross_correlation.get_p(st)\n",
    "print st\n",
    "\n"
   ]
  },
  {
   "cell_type": "code",
   "execution_count": 6,
   "metadata": {
    "collapsed": false
   },
   "outputs": [
    {
     "name": "stdout",
     "output_type": "stream",
     "text": [
      "36 Trace(s) in Stream:\n",
      "\n",
      "K_Well.001..BSL | 2013-07-23T12:35:49.000000Z - 2013-07-23T12:35:51.000000Z | 4000.0 Hz, 8001 samples\n",
      "...\n",
      "(34 other traces)\n",
      "...\n",
      "K_Well.036..BSL | 2013-07-23T12:35:49.000000Z - 2013-07-23T12:35:51.000000Z | 4000.0 Hz, 8001 samples\n",
      "\n",
      "[Use \"print(Stream.__str__(extended=True))\" to print all Traces]\n",
      "--- Grabbing p-wave windows ----\n",
      "36 Trace(s) in Stream:\n",
      "\n",
      "K_Well.001..BSL | 2013-07-23T12:35:49.866500Z - 2013-07-23T12:35:50.166500Z | 4000.0 Hz, 1201 samples\n",
      "...\n",
      "(34 other traces)\n",
      "...\n",
      "K_Well.036..BSL | 2013-07-23T09:10:04.199997Z - 2013-07-23T09:10:04.199997Z | 4000.0 Hz, 0 samples\n",
      "\n",
      "[Use \"print(Stream.__str__(extended=True))\" to print all Traces]\n"
     ]
    }
   ],
   "source": [
    "reload(cross_correlation)\n",
    "print st\n",
    "print '--- Grabbing p-wave windows ----'\n",
    "st = cross_correlation.window_trace(st,0.1,0.2)\n",
    "print st\n",
    "\n"
   ]
  },
  {
   "cell_type": "code",
   "execution_count": null,
   "metadata": {
    "collapsed": false
   },
   "outputs": [],
   "source": [
    "reload(cross_correlation)\n",
    "print st\n",
    "print '--- Cross_correlation windows ----'\n",
    "st = cross_correlation.cross_correlate(st,0.1,0.2)\n",
    "print st\n",
    "\n"
   ]
  }
 ],
 "metadata": {
  "kernelspec": {
   "display_name": "Python 2",
   "language": "python",
   "name": "python2"
  },
  "language_info": {
   "codemirror_mode": {
    "name": "ipython",
    "version": 2
   },
   "file_extension": ".py",
   "mimetype": "text/x-python",
   "name": "python",
   "nbconvert_exporter": "python",
   "pygments_lexer": "ipython2",
   "version": "2.7.11"
  }
 },
 "nbformat": 4,
 "nbformat_minor": 0
}
